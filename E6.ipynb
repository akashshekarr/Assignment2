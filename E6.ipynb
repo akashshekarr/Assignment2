{
 "cells": [
  {
   "cell_type": "code",
   "execution_count": null,
   "id": "e5538027-093f-42d0-add1-e98c34d82f90",
   "metadata": {},
   "outputs": [],
   "source": [
    "## Data Science Tools\n",
    "\n",
    "| Tool         | Description                          |\n",
    "|--------------|--------------------------------------|\n",
    "| JupyterLite  | Lightweight version of Jupyter Notebook |\n",
    "| GitHub       | Version control platform for code    |\n",
    "| Docker       | Containerization platform            |\n",
    "| Anaconda     | Distribution of Python and R packages|"
   ]
  }
 ],
 "metadata": {
  "kernelspec": {
   "display_name": "Python 3 (ipykernel)",
   "language": "python",
   "name": "python3"
  },
  "language_info": {
   "codemirror_mode": {
    "name": "ipython",
    "version": 3
   },
   "file_extension": ".py",
   "mimetype": "text/x-python",
   "name": "python",
   "nbconvert_exporter": "python",
   "pygments_lexer": "ipython3",
   "version": "3.11.7"
  }
 },
 "nbformat": 4,
 "nbformat_minor": 5
}
