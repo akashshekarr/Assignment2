{
 "cells": [
  {
   "cell_type": "code",
   "execution_count": null,
   "id": "083155a5-3870-436c-aae1-f2ebb791a0b4",
   "metadata": {},
   "outputs": [],
   "source": [
    "## Objectives\n",
    "\n",
    "- Introduce data science languages, libraries, and tools\n",
    "- Demonstrate basic arithmetic operations in Python\n",
    "- Illustrate a simple conversion from minutes to hours"
   ]
  }
 ],
 "metadata": {
  "kernelspec": {
   "display_name": "Python 3 (ipykernel)",
   "language": "python",
   "name": "python3"
  },
  "language_info": {
   "codemirror_mode": {
    "name": "ipython",
    "version": 3
   },
   "file_extension": ".py",
   "mimetype": "text/x-python",
   "name": "python",
   "nbconvert_exporter": "python",
   "pygments_lexer": "ipython3",
   "version": "3.11.7"
  }
 },
 "nbformat": 4,
 "nbformat_minor": 5
}
