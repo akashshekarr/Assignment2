{
 "cells": [
  {
   "cell_type": "code",
   "execution_count": null,
   "id": "d36b25e1-46af-4f74-94b3-28d1f3e14839",
   "metadata": {},
   "outputs": [],
   "source": [
    "# Multiply and Add Numbers\n",
    "num1 = 5\n",
    "num2 = 10\n",
    "multiply_result = num1 * num2\n",
    "add_result = num1 + num2\n",
    "print(\"Multiplication Result:\", multiply_result)\n",
    "print(\"Addition Result:\", add_result)"
   ]
  }
 ],
 "metadata": {
  "kernelspec": {
   "display_name": "Python 3 (ipykernel)",
   "language": "python",
   "name": "python3"
  },
  "language_info": {
   "codemirror_mode": {
    "name": "ipython",
    "version": 3
   },
   "file_extension": ".py",
   "mimetype": "text/x-python",
   "name": "python",
   "nbconvert_exporter": "python",
   "pygments_lexer": "ipython3",
   "version": "3.11.7"
  }
 },
 "nbformat": 4,
 "nbformat_minor": 5
}
