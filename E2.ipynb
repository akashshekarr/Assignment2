{
 "cells": [
  {
   "cell_type": "code",
   "execution_count": 1,
   "id": "7b3b4b73-da71-4d4c-8a53-e0f3f41126ab",
   "metadata": {},
   "outputs": [],
   "source": [
    "# My Data Science Notebook\n"
   ]
  },
  {
   "cell_type": "code",
   "execution_count": null,
   "id": "6aba9e9c-3b6c-4510-b233-4a0a52ef8ca4",
   "metadata": {},
   "outputs": [],
   "source": []
  }
 ],
 "metadata": {
  "kernelspec": {
   "display_name": "Python 3 (ipykernel)",
   "language": "python",
   "name": "python3"
  },
  "language_info": {
   "codemirror_mode": {
    "name": "ipython",
    "version": 3
   },
   "file_extension": ".py",
   "mimetype": "text/x-python",
   "name": "python",
   "nbconvert_exporter": "python",
   "pygments_lexer": "ipython3",
   "version": "3.11.7"
  }
 },
 "nbformat": 4,
 "nbformat_minor": 5
}
