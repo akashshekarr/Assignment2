{
 "cells": [
  {
   "cell_type": "code",
   "execution_count": null,
   "id": "e21a2148-83a9-49b3-af63-8453363bee8a",
   "metadata": {},
   "outputs": [],
   "source": [
    "## Introduction\n",
    "\n",
    "Welcome to my Data Science Notebook! In this notebook, I will explore various data science languages, libraries, and tools, and demonstrate some basic arithmetic operations and conversions.\n"
   ]
  },
  {
   "cell_type": "code",
   "execution_count": null,
   "id": "8aa4c028-491e-4705-ac45-396be2e80b83",
   "metadata": {},
   "outputs": [],
   "source": []
  },
  {
   "cell_type": "code",
   "execution_count": null,
   "id": "86805a14-999b-4392-8981-80c962ae0108",
   "metadata": {},
   "outputs": [],
   "source": []
  },
  {
   "cell_type": "code",
   "execution_count": null,
   "id": "fcb5c38e-58cd-44e2-aba8-6277c14665a3",
   "metadata": {},
   "outputs": [],
   "source": []
  },
  {
   "cell_type": "code",
   "execution_count": null,
   "id": "aa6615e1-a3c0-4e4a-bfcd-c51840ee794f",
   "metadata": {},
   "outputs": [],
   "source": []
  }
 ],
 "metadata": {
  "kernelspec": {
   "display_name": "Python 3 (ipykernel)",
   "language": "python",
   "name": "python3"
  },
  "language_info": {
   "codemirror_mode": {
    "name": "ipython",
    "version": 3
   },
   "file_extension": ".py",
   "mimetype": "text/x-python",
   "name": "python",
   "nbconvert_exporter": "python",
   "pygments_lexer": "ipython3",
   "version": "3.11.7"
  }
 },
 "nbformat": 4,
 "nbformat_minor": 5
}
